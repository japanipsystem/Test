{
  "nbformat": 4,
  "nbformat_minor": 0,
  "metadata": {
    "colab": {
      "provenance": [],
      "authorship_tag": "ABX9TyNJOaajkIZRHvduGVyKa3nn",
      "include_colab_link": true
    },
    "kernelspec": {
      "name": "python3",
      "display_name": "Python 3"
    },
    "language_info": {
      "name": "python"
    }
  },
  "cells": [
    {
      "cell_type": "markdown",
      "metadata": {
        "id": "view-in-github",
        "colab_type": "text"
      },
      "source": [
        "<a href=\"https://colab.research.google.com/github/japanipsystem/Test/blob/master/20250915_Tiger1_.ipynb\" target=\"_parent\"><img src=\"https://colab.research.google.com/assets/colab-badge.svg\" alt=\"Open In Colab\"/></a>"
      ]
    },
    {
      "cell_type": "code",
      "execution_count": null,
      "metadata": {
        "id": "5ZxoeSgOEGzK",
        "colab": {
          "base_uri": "https://localhost:8080/",
          "height": 35
        },
        "outputId": "3105f809-02bf-412e-9574-9cd91115c6c2"
      },
      "outputs": [
        {
          "output_type": "execute_result",
          "data": {
            "text/plain": [
              "'\\n20250925\\nProject Tiger\\n'"
            ],
            "application/vnd.google.colaboratory.intrinsic+json": {
              "type": "string"
            }
          },
          "metadata": {},
          "execution_count": 5
        }
      ],
      "source": [
        "'''\n",
        "20250925\n",
        "Project Tiger\n",
        "Kosuke Suzuki\n",
        "'''"
      ]
    },
    {
      "cell_type": "code",
      "source": [
        "#初期設定\n",
        "stock = 6963\n",
        "L = 240\n",
        "pre = 10\n",
        "post = 10\n"
      ],
      "metadata": {
        "id": "hbH2AZJm-djB"
      },
      "execution_count": null,
      "outputs": []
    },
    {
      "cell_type": "code",
      "source": [
        "import pandas as pd\n",
        "import numpy as np\n",
        "import matplotlib.pyplot as plt"
      ],
      "metadata": {
        "id": "pI0EnUIiERSn"
      },
      "execution_count": null,
      "outputs": []
    },
    {
      "cell_type": "code",
      "source": [
        "from google.colab import drive\n",
        "\n",
        "# Google Drive を /content/drive にマウント\n",
        "drive.mount('/content/drive')\n",
        "\n"
      ],
      "metadata": {
        "colab": {
          "base_uri": "https://localhost:8080/"
        },
        "id": "ichUXUQP73LC",
        "outputId": "fcf927cd-8c63-4a12-9764-efea5c7fc595"
      },
      "execution_count": null,
      "outputs": [
        {
          "output_type": "stream",
          "name": "stdout",
          "text": [
            "Drive already mounted at /content/drive; to attempt to forcibly remount, call drive.mount(\"/content/drive\", force_remount=True).\n"
          ]
        }
      ]
    },
    {
      "cell_type": "code",
      "source": [
        "# tiger フォルダのパスを指定\n",
        "path = '/content/drive/MyDrive/tiger/'\n"
      ],
      "metadata": {
        "id": "ILLhRdz_9JsC"
      },
      "execution_count": null,
      "outputs": []
    },
    {
      "cell_type": "code",
      "source": [
        "# 例: CSVファイルを読み込む\n",
        "import pandas as pd\n",
        "df = pd.read_csv(path + '6963.T.csv')\n",
        "print(df.head())"
      ],
      "metadata": {
        "colab": {
          "base_uri": "https://localhost:8080/"
        },
        "id": "kbOReysa9Dsw",
        "outputId": "6a3f91f7-2bc9-4719-fe7d-98969ef1e028"
      },
      "execution_count": null,
      "outputs": [
        {
          "output_type": "stream",
          "name": "stdout",
          "text": [
            "       Date  Open    High     Low   Close   Volume  Adj Close\n",
            "0  19890125  3460  3460.0  3450.0  3450.0  46000.0     507.05\n",
            "1  19890126  3400  3400.0  3360.0  3360.0   4000.0     493.83\n",
            "2  19890127  3400  3450.0  3400.0  3440.0  15000.0     505.59\n",
            "3  19890128  3500  3500.0  3500.0  3500.0   1000.0     514.40\n",
            "4  19890130  3550  3550.0  3500.0  3500.0  22000.0     514.40\n"
          ]
        }
      ]
    },
    {
      "cell_type": "code",
      "source": [
        "# read Event file\n",
        "df_event_file = pd.read_excel(path + 'Events.xlsx')\n",
        "print(df_event_file.head())\n",
        "\n",
        "# Event == 'Addition'\n",
        "df_add_events = df_event_file.loc[\n",
        "    df_event_file['Event'] == 'Addition',\n",
        "    ['Announcement date', 'Implementation date', 'コード', 'Event']\n",
        "]\n",
        "\n",
        "print(df_add_events.head())\n",
        "\n",
        "# 1. Date -> datetime\n",
        "df_add_events['Announcement date'] = pd.to_datetime(df_add_events['Announcement date'])\n",
        "df_add_events['Implementation date'] = pd.to_datetime(df_add_events['Implementation date'])\n",
        "\n",
        "print(df_add_events.head())\n"
      ],
      "metadata": {
        "colab": {
          "base_uri": "https://localhost:8080/"
        },
        "id": "wfgyTFQXe5CD",
        "outputId": "761ed568-8eb5-4b49-b724-c483471ddc4a"
      },
      "execution_count": null,
      "outputs": [
        {
          "output_type": "stream",
          "name": "stdout",
          "text": [
            "   Record         Document Announcement date Implementation date  定期入れ替え  \\\n",
            "0       1  20250620J_1.pdf        2025-06-20          2025-07-01       1   \n",
            "1       2  20250620J_1.pdf        2025-06-20          2025-07-01       1   \n",
            "2       3  20250305J_1.pdf        2025-03-05          2025-04-01       1   \n",
            "3       4  20250305J_1.pdf        2025-03-05          2025-04-01       1   \n",
            "4       5  20240904J_1.pdf        2024-09-04          2024-10-01       1   \n",
            "\n",
            "   株価換算係数      コード      Company     Event  \\\n",
            "0        1  6963.0          ローム  Addition   \n",
            "1      NaN  9613.0   ＮＴＴデータグループ  Deletion   \n",
            "2      0.5  6532.0  ベ イ カ レ ン ト  Addition   \n",
            "3      NaN  9301.0         三菱倉庫  Deletion   \n",
            "4        1  4307.0      野村総合研究所  Addition   \n",
            "\n",
            "                                              Reason  \n",
            "0                                                NaN  \n",
            "1  TO B ( 株 式 公 開 買 い 付 け ) の 結 果 、 将 来 の 上 場 廃 止...  \n",
            "2                                                NaN  \n",
            "3                                                NaN  \n",
            "4                                                NaN  \n",
            "  Announcement date Implementation date     コード     Event\n",
            "0        2025-06-20          2025-07-01  6963.0  Addition\n",
            "2        2025-03-05          2025-04-01  6532.0  Addition\n",
            "4        2024-09-04          2024-10-01  4307.0  Addition\n",
            "5        2024-09-04          2024-10-01  7453.0  Addition\n",
            "8        2024-03-04          2024-04-01  3092.0  Addition\n",
            "  Announcement date Implementation date     コード     Event\n",
            "0        2025-06-20          2025-07-01  6963.0  Addition\n",
            "2        2025-03-05          2025-04-01  6532.0  Addition\n",
            "4        2024-09-04          2024-10-01  4307.0  Addition\n",
            "5        2024-09-04          2024-10-01  7453.0  Addition\n",
            "8        2024-03-04          2024-04-01  3092.0  Addition\n"
          ]
        }
      ]
    },
    {
      "cell_type": "code",
      "source": [
        "df_N225=pd.read_csv(path +'NIKKEI225.csv')\n",
        "print(df_N225.head())"
      ],
      "metadata": {
        "colab": {
          "base_uri": "https://localhost:8080/"
        },
        "id": "waPr4fu0EZrI",
        "outputId": "f9d3c03b-b9ab-4f92-8799-de79972870bd"
      },
      "execution_count": null,
      "outputs": [
        {
          "output_type": "stream",
          "name": "stdout",
          "text": [
            "  observation_date  NIKKEI225\n",
            "0       1949-05-16     176.21\n",
            "1       1949-05-17     174.80\n",
            "2       1949-05-18     172.53\n",
            "3       1949-05-19     171.34\n",
            "4       1949-05-20     169.20\n"
          ]
        }
      ]
    },
    {
      "cell_type": "code",
      "source": [
        "# Calculate log return\n",
        "df_N225['lmRt'] = np.log(df_N225['NIKKEI225'] / df_N225['NIKKEI225'].shift(1))\n",
        "\n",
        "df_N225['observation_date'] = pd.to_datetime(df_N225['observation_date'])\n",
        "print(df_N225.head())"
      ],
      "metadata": {
        "colab": {
          "base_uri": "https://localhost:8080/"
        },
        "id": "qHCSSxwPG39o",
        "outputId": "21def274-90b0-4518-a54f-e5de6417b521"
      },
      "execution_count": null,
      "outputs": [
        {
          "output_type": "stream",
          "name": "stdout",
          "text": [
            "  observation_date  NIKKEI225      lmRt\n",
            "0       1949-05-16     176.21       NaN\n",
            "1       1949-05-17     174.80 -0.008034\n",
            "2       1949-05-18     172.53 -0.013071\n",
            "3       1949-05-19     171.34 -0.006921\n",
            "4       1949-05-20     169.20 -0.012568\n"
          ]
        }
      ]
    },
    {
      "cell_type": "code",
      "source": [
        "# Calculate Market Return\n",
        "\n",
        "def calReturn(stock):\n",
        "  stock = path + str(stock) + '.T.csv'\n",
        "  df_Stock = pd.read_csv(stock)\n",
        "  df_Stock['lmRt'] = np.log(df_Stock['Close'] / df_Stock['Close'].shift(1))\n",
        "  df_Stock['Date'] = pd.to_datetime(df_Stock['Date'].astype(str), format='%Y%m%d')\n",
        "  return df_Stock"
      ],
      "metadata": {
        "id": "Ou8utIAzHJwp"
      },
      "execution_count": null,
      "outputs": []
    },
    {
      "cell_type": "code",
      "source": [
        "def eventday(code_num):\n",
        "  event_day = df_add_events.loc[df_add_events[\"コード\"] == code_num, \"Announcement date\"].iloc[0]\n",
        "  return event_day"
      ],
      "metadata": {
        "id": "iygBF0G9nGme"
      },
      "execution_count": null,
      "outputs": []
    },
    {
      "cell_type": "code",
      "source": [
        "def setDate(stock, L=240, pre=10, post=10):\n",
        "    # 価格→リターン作成\n",
        "    df_Stock = calReturn(stock)                   # 必須: Date(=datetime or YYYYMMDD), lmRt\n",
        "    event_day = eventday(stock)                   # 必須: pd.Timestamp を返す想定\n",
        "    event_day = pd.to_datetime(event_day)\n",
        "\n",
        "    # 期間はカレンダー日ベースでフィルタ\n",
        "    start_date = event_day - pd.Timedelta(days=L+10)  # [-L-10, +10]\n",
        "    end_date   = event_day + pd.Timedelta(days=10)\n",
        "\n",
        "    # マーケット側の切り出し\n",
        "    sub_N225 = df_N225[\n",
        "        (df_N225['observation_date'] >= start_date) &\n",
        "        (df_N225['observation_date'] <= end_date)\n",
        "    ].copy()\n",
        "\n",
        "    # ストック側の切り出し\n",
        "    sub_Stock = df_Stock[\n",
        "        (df_Stock['Date'] >= start_date) &\n",
        "        (df_Stock['Date'] <= end_date)\n",
        "    ].copy()\n",
        "\n",
        "    # マージ（同日で結合）\n",
        "    dfM = pd.merge(\n",
        "        sub_Stock[['Date','lmRt']].rename(columns={'lmRt':'r_stock'}),\n",
        "        sub_N225[['observation_date','lmRt']].rename(columns={'lmRt':'r_mkt', 'observation_date':'Date'}),\n",
        "        on='Date', how='inner'\n",
        "    ).dropna()\n",
        "\n",
        "    # 0リターンを後ろにして同日1行に（非ゼロ優先で残す）\n",
        "    dfM['is_zero'] = (dfM['r_stock'].abs() < 1e-15)\n",
        "    dfM = (dfM.sort_values(['Date','is_zero'])\n",
        "              .drop_duplicates(subset='Date', keep='first')\n",
        "              .drop(columns='is_zero')\n",
        "              .sort_values('Date')\n",
        "              .reset_index(drop=True))\n",
        "\n",
        "    # ===== ここから追加：取引日ベースの τ を付与 =====\n",
        "    dates = dfM['Date'].sort_values().unique()\n",
        "    rank = pd.Series(range(len(dates)), index=dates)  # Date → 0..N-1\n",
        "\n",
        "    anchor = rank.get(event_day)\n",
        "    if anchor is None:\n",
        "        # イベント日が取引日でない場合は「翌取引日」。無ければ直前。\n",
        "        later = rank[rank.index > event_day]\n",
        "        anchor = later.min() if not later.empty else rank.max()\n",
        "\n",
        "    dfM['tau'] = dfM['Date'].map(rank) - int(anchor)\n",
        "\n",
        "    # 返り値\n",
        "    return dfM, event_day\n"
      ],
      "metadata": {
        "id": "vftEHnQHJgDF"
      },
      "execution_count": null,
      "outputs": []
    },
    {
      "cell_type": "code",
      "source": [
        "def calOLS(dfM, L=240):\n",
        "    \"\"\"\n",
        "    dfM: setDate()でtauが付与されたDataFrame（列: Date, r_stock, r_mkt, tau）\n",
        "    L  : 推定ウインドウの過去長（[-L, -10]）\n",
        "    \"\"\"\n",
        "    est = dfM[(dfM['tau'] >= -L) & (dfM['tau'] <= -10)].copy()\n",
        "    # サンプルチェック\n",
        "    if len(est) < 20 or est['r_mkt'].var() == 0:\n",
        "        return np.nan, np.nan\n",
        "\n",
        "    rm = est['r_mkt'].values\n",
        "    rs = est['r_stock'].values\n",
        "\n",
        "    beta  = np.sum((rm - rm.mean())*(rs - rs.mean())) / np.sum((rm - rm.mean())**2)\n",
        "    alpha = rs.mean() - beta*rm.mean()\n",
        "    return alpha, beta\n"
      ],
      "metadata": {
        "id": "Xx9-_dJAJpCq"
      },
      "execution_count": null,
      "outputs": []
    },
    {
      "cell_type": "code",
      "source": [
        "# t検定\n",
        "def compute_event_ar_from_dfM(dfM, alpha, beta, L=240, pre=10, post=10, code_num=None):\n",
        "    \"\"\"\n",
        "    前提: dfM には ['Date','r_stock','r_mkt','tau'] があり、tau は取引日ベース。\n",
        "    1) 推定ウインドウ[-L, -10]から sigma_hat_AR を推定\n",
        "    2) イベントウインドウ[-pre, +post]で AR/CAR\n",
        "    3) SE(CAR_tau), t_CAR を付与\n",
        "    戻り値: ev（各tauのAR/CAR/tを含む）, sigma_hat_AR\n",
        "    \"\"\"\n",
        "    # ---- 推定ウインドウ [-L, -10] で残差分散（標準偏差）を推定 ----\n",
        "    est = dfM[(dfM['tau'] >= -L) & (dfM['tau'] <= -10)].copy()\n",
        "    if len(est) >= 3 and est['r_mkt'].var() > 0:\n",
        "        est['resid'] = est['r_stock'] - (alpha + beta * est['r_mkt'])\n",
        "        sigma_hat_AR = est['resid'].std(ddof=1)   # 標本標準偏差\n",
        "    else:\n",
        "        sigma_hat_AR = np.nan  # サンプル不足\n",
        "\n",
        "    # ---- イベントウインドウ [-pre, +post] ----\n",
        "    ev = (dfM[(dfM['tau'] >= -pre) & (dfM['tau'] <= post)]\n",
        "            .copy()\n",
        "            .sort_values('tau')\n",
        "            .reset_index(drop=True))\n",
        "\n",
        "    # 期待収益・AR・CAR\n",
        "    ev['expected'] = alpha + beta * ev['r_mkt']\n",
        "    ev['AR'] = ev['r_stock'] - ev['expected']\n",
        "    ev['CAR'] = ev['AR'].cumsum()\n",
        "\n",
        "    # ---- SE(CAR_tau) と t統計量 ----\n",
        "    # 欠損tauがあってもズレないように、単純な累積カウントで観測数を作る\n",
        "    ev['n_tau'] = np.arange(1, len(ev) + 1, dtype=int)\n",
        "\n",
        "    if np.isnan(sigma_hat_AR) or sigma_hat_AR == 0:\n",
        "        ev['SE_CAR'] = np.nan\n",
        "        ev['t_CAR'] = np.nan\n",
        "    else:\n",
        "        ev['SE_CAR'] = np.sqrt(ev['n_tau']) * sigma_hat_AR\n",
        "        ev['t_CAR'] = ev['CAR'] / ev['SE_CAR']\n",
        "\n",
        "    if code_num is not None:\n",
        "        ev['Code'] = code_num\n",
        "\n",
        "    cols = ['Date','tau','r_stock','r_mkt','expected','AR','CAR','SE_CAR','t_CAR','n_tau']\n",
        "    if 'Code' in ev.columns:\n",
        "        cols.append('Code')\n",
        "\n",
        "    return ev[cols], sigma_hat_AR\n"
      ],
      "metadata": {
        "id": "WmZkRYKaLZbc"
      },
      "execution_count": null,
      "outputs": []
    },
    {
      "cell_type": "code",
      "source": [
        "# 1) マージ＆τ付与\n",
        "dfM_i, event_day_i = setDate(stock=6963, L=240, pre=10, post=10)\n",
        "\n",
        "# 2) 推定ウインドウで α・β を推定\n",
        "alpha_i, beta_i = calOLS(dfM_i, L=240)\n",
        "\n",
        "# 3) イベントウィンドで AR/CAR を算出\n",
        "ev_i, sigma_hat_AR_i = compute_event_ar_from_dfM(\n",
        "    dfM=dfM_i, alpha=alpha_i, beta=beta_i,\n",
        "    L=240, pre=10, post=10, code_num=6963\n",
        ")\n",
        "print(ev_i.head(21))\n",
        "print(\"sigma_hat_AR (est window):\", sigma_hat_AR_i)"
      ],
      "metadata": {
        "colab": {
          "base_uri": "https://localhost:8080/"
        },
        "id": "FWwvUekuLZlI",
        "outputId": "313ffc10-fe67-437b-e052-0bf71e05e997"
      },
      "execution_count": null,
      "outputs": [
        {
          "output_type": "stream",
          "name": "stdout",
          "text": [
            "         Date  tau   r_stock     r_mkt  expected        AR       CAR  \\\n",
            "0  2025-06-06  -10 -0.009203  0.004970  0.005247 -0.014450 -0.014450   \n",
            "1  2025-06-09   -9 -0.005562  0.009151  0.009560 -0.015123 -0.029572   \n",
            "2  2025-06-10   -8  0.023581  0.003223  0.003444  0.020137 -0.009436   \n",
            "3  2025-06-11   -7  0.037426  0.005472  0.005765  0.031661  0.022225   \n",
            "4  2025-06-12   -6 -0.003505 -0.006478 -0.006563  0.003059  0.025284   \n",
            "5  2025-06-13   -5 -0.031201 -0.008916 -0.009078 -0.022123  0.003161   \n",
            "6  2025-06-16   -4 -0.003932  0.012531  0.013047 -0.016979 -0.013818   \n",
            "7  2025-06-17   -3  0.001211  0.005866  0.006172 -0.004960 -0.018778   \n",
            "8  2025-06-18   -2  0.005433  0.009000  0.009405 -0.003972 -0.022750   \n",
            "9  2025-06-19   -1  0.011374 -0.010257 -0.010462  0.021836 -0.000914   \n",
            "10 2025-06-20    0  0.003862 -0.002214 -0.002164  0.006026  0.005111   \n",
            "11 2025-06-23    1  0.051145 -0.001280 -0.001201  0.052346  0.057457   \n",
            "12 2025-06-24    2  0.006738  0.011316  0.011793 -0.005056  0.052402   \n",
            "13 2025-06-25    3  0.006971  0.003898  0.004141  0.002829  0.055231   \n",
            "14 2025-06-26    4  0.019536  0.016364  0.017002  0.002534  0.057765   \n",
            "15 2025-06-27    5 -0.003275  0.014202  0.014771 -0.018047  0.039718   \n",
            "16 2025-06-30    6  0.004364  0.008348  0.008732 -0.004368  0.035350   \n",
            "\n",
            "      SE_CAR     t_CAR  n_tau  Code  \n",
            "0   0.024508 -0.589590      1  6963  \n",
            "1   0.034660 -0.853222      2  6963  \n",
            "2   0.042449 -0.222284      3  6963  \n",
            "3   0.049016  0.453427      4  6963  \n",
            "4   0.054802  0.461371      5  6963  \n",
            "5   0.060033  0.052651      6  6963  \n",
            "6   0.064843 -0.213099      7  6963  \n",
            "7   0.069320 -0.270894      8  6963  \n",
            "8   0.073525 -0.309419      9  6963  \n",
            "9   0.077502 -0.011797     10  6963  \n",
            "10  0.081284  0.062881     11  6963  \n",
            "11  0.084899  0.676775     12  6963  \n",
            "12  0.088365  0.593012     13  6963  \n",
            "13  0.091701  0.602293     14  6963  \n",
            "14  0.094920  0.608565     15  6963  \n",
            "15  0.098033  0.405153     16  6963  \n",
            "16  0.101050  0.349831     17  6963  \n",
            "sigma_hat_AR (est window): 0.024508174816917427\n"
          ]
        }
      ]
    },
    {
      "cell_type": "code",
      "source": [
        "# CAARを求める。\n",
        "# ハイパラ（必要なら調整）\n",
        "L, pre, post = 240, 10, 10\n",
        "\n",
        "# 1) イベント候補を準備（Additionのみ、必要列のみ）\n",
        "df_use = (df_add_events\n",
        "          .loc[df_add_events['Event']=='Addition', ['Announcement date','コード']]\n",
        "          .dropna())\n",
        "df_use['Announcement date'] = pd.to_datetime(df_use['Announcement date'])\n",
        "df_use['コード'] = df_use['コード'].astype(int)\n",
        "\n",
        "all_evs = []    # 各銘柄×τのAR/CAR等を積む\n",
        "errors  = []    # スキップや失敗の記録\n",
        "\n",
        "for _, row in df_use.iterrows():\n",
        "    stock = int(row['コード'])\n",
        "    try:\n",
        "        # 2) マージ & τ 付与\n",
        "        dfM_i, event_day_i = setDate(stock=stock, L=L, pre=pre, post=post)\n",
        "\n",
        "        # 3) 推定ウインドウで α・β を推定\n",
        "        alpha_i, beta_i = calOLS(dfM_i, L=L)\n",
        "\n",
        "        # 4) イベントウインドウで AR/CAR と（関数内で）t関連を算出\n",
        "        #    ※ compute_event_ar_from_dfM は、前回お渡しした t付き版に差し替えてある想定\n",
        "        ev_i, sigma_hat_AR_i = compute_event_ar_from_dfM(\n",
        "            dfM=dfM_i, alpha=alpha_i, beta=beta_i,\n",
        "            L=L, pre=pre, post=post, code_num=stock\n",
        "        )\n",
        "\n",
        "        # メタ情報\n",
        "        ev_i['Announcement date'] = event_day_i\n",
        "        ev_i['alpha_used'] = alpha_i\n",
        "        ev_i['beta_used']  = beta_i\n",
        "        ev_i['sigma_hat_AR'] = sigma_hat_AR_i\n",
        "\n",
        "        all_evs.append(ev_i)\n",
        "\n",
        "    except Exception as e:\n",
        "        errors.append((stock, str(e)))\n",
        "\n",
        "# 5) 連結（全イベントのAR/CARが縦積み）\n",
        "df_events_all = pd.concat(all_evs, ignore_index=True) if all_evs else pd.DataFrame()\n",
        "\n",
        "# 6) AAR/CAAR を作成\n",
        "#    AAR: τごとの AR のクロスセクション平均\n",
        "AAR = (df_events_all.groupby('tau', as_index=False)['AR']\n",
        "       .mean()\n",
        "       .rename(columns={'AR':'AAR'})\n",
        "       .sort_values('tau'))\n",
        "#    CAAR: AAR を τ順に累積\n",
        "AAR['CAAR'] = AAR['AAR'].cumsum()\n",
        "\n",
        "# 参考：CAR を平均して CAAR を作る等価な確認（数値は一致するはず）\n",
        "CAAR_check = (df_events_all.groupby('tau', as_index=False)['CAR']\n",
        "              .mean()\n",
        "              .rename(columns={'CAR':'CAAR_alt'})\n",
        "              .sort_values('tau'))\n",
        "\n",
        "print(\"AAR / CAAR (head):\")\n",
        "print(AAR.head(12))\n",
        "print(\"\\nCross-check (mean CAR as CAAR_alt):\")\n",
        "print(CAAR_check.head(12))\n",
        "\n",
        "if errors:\n",
        "    print(\"\\nSkipped / errors:\", errors)\n"
      ],
      "metadata": {
        "colab": {
          "base_uri": "https://localhost:8080/"
        },
        "id": "A689lsOtPQR6",
        "outputId": "2fdbbd5a-c9f6-4d71-b9fc-beb0e3d9fd0c"
      },
      "execution_count": null,
      "outputs": [
        {
          "output_type": "stream",
          "name": "stdout",
          "text": [
            "AAR / CAAR (head):\n",
            "    tau       AAR      CAAR\n",
            "0   -10 -0.002607 -0.002607\n",
            "1    -9 -0.001221 -0.003828\n",
            "2    -8  0.000853 -0.002975\n",
            "3    -7 -0.001255 -0.004230\n",
            "4    -6  0.001811 -0.002419\n",
            "5    -5  0.001078 -0.001341\n",
            "6    -4  0.002356  0.001014\n",
            "7    -3 -0.003040 -0.002026\n",
            "8    -2 -0.000788 -0.002814\n",
            "9    -1 -0.000995 -0.003809\n",
            "10    0  0.013442  0.009634\n",
            "11    1  0.040030  0.049664\n",
            "\n",
            "Cross-check (mean CAR as CAAR_alt):\n",
            "    tau  CAAR_alt\n",
            "0   -10 -0.002607\n",
            "1    -9 -0.003828\n",
            "2    -8 -0.002975\n",
            "3    -7 -0.004230\n",
            "4    -6 -0.002419\n",
            "5    -5 -0.001341\n",
            "6    -4  0.001014\n",
            "7    -3 -0.002026\n",
            "8    -2 -0.002814\n",
            "9    -1 -0.003809\n",
            "10    0  0.009634\n",
            "11    1  0.049664\n",
            "\n",
            "Skipped / errors: [(5831, 'cannot convert float NaN to integer'), (9147, 'cannot convert float NaN to integer'), (8028, \"[Errno 2] No such file or directory: '/content/drive/MyDrive/tiger/8028.T.csv'\"), (7186, 'cannot convert float NaN to integer'), (1333, 'cannot convert float NaN to integer'), (3289, 'cannot convert float NaN to integer'), (3863, 'cannot convert float NaN to integer'), (5413, \"[Errno 2] No such file or directory: '/content/drive/MyDrive/tiger/5413.T.csv'\"), (5703, 'cannot convert float NaN to integer'), (8729, \"[Errno 2] No such file or directory: '/content/drive/MyDrive/tiger/8729.T.csv'\"), (5407, \"[Errno 2] No such file or directory: '/content/drive/MyDrive/tiger/5407.T.csv'\"), (5020, 'cannot convert float NaN to integer'), (8630, 'cannot convert float NaN to integer'), (1334, \"[Errno 2] No such file or directory: '/content/drive/MyDrive/tiger/1334.T.csv'\"), (2269, 'cannot convert float NaN to integer'), (8270, \"[Errno 2] No such file or directory: '/content/drive/MyDrive/tiger/8270.T.csv'\"), (3099, 'cannot convert float NaN to integer'), (8725, 'cannot convert float NaN to integer'), (9412, 'cannot convert float NaN to integer'), (8815, \"[Errno 2] No such file or directory: '/content/drive/MyDrive/tiger/8815.T.csv'\"), (1605, 'cannot convert float NaN to integer'), (4795, \"[Errno 2] No such file or directory: '/content/drive/MyDrive/tiger/4795.T.csv'\"), (8303, \"[Errno 2] No such file or directory: '/content/drive/MyDrive/tiger/8303.T.csv'\"), (4568, 'cannot convert float NaN to integer'), (4188, 'cannot convert float NaN to integer'), (3382, 'cannot convert float NaN to integer'), (6674, 'cannot convert float NaN to integer'), (1721, 'cannot convert float NaN to integer'), (2779, \"[Errno 2] No such file or directory: '/content/drive/MyDrive/tiger/2779.T.csv'\"), (2768, 'cannot convert float NaN to integer'), (8411, 'cannot convert float NaN to integer'), (8316, 'cannot convert float NaN to integer'), (8238, \"[Errno 2] No such file or directory: '/content/drive/MyDrive/tiger/8238.T.csv'\"), (5016, 'cannot convert float NaN to integer'), (5411, 'cannot convert float NaN to integer'), (9737, \"[Errno 2] No such file or directory: '/content/drive/MyDrive/tiger/9737.T.csv'\"), (5411, 'cannot convert float NaN to integer'), (8766, 'cannot convert float NaN to integer'), (1947, \"[Errno 2] No such file or directory: '/content/drive/MyDrive/tiger/1947.T.csv'\"), (8308, 'cannot convert float NaN to integer'), (4511, \"[Errno 2] No such file or directory: '/content/drive/MyDrive/tiger/4511.T.csv'\"), (3893, \"[Errno 2] No such file or directory: '/content/drive/MyDrive/tiger/3893.T.csv'\"), (8306, 'cannot convert float NaN to integer'), (8307, \"[Errno 2] No such file or directory: '/content/drive/MyDrive/tiger/8307.T.csv'\"), (8332, \"[Errno 2] No such file or directory: '/content/drive/MyDrive/tiger/8332.T.csv'\"), (8407, \"[Errno 2] No such file or directory: '/content/drive/MyDrive/tiger/8407.T.csv'\"), (8606, \"[Errno 2] No such file or directory: '/content/drive/MyDrive/tiger/8606.T.csv'\"), (8305, \"[Errno 2] No such file or directory: '/content/drive/MyDrive/tiger/8305.T.csv'\"), (4505, \"[Errno 2] No such file or directory: '/content/drive/MyDrive/tiger/4505.T.csv'\"), (6767, \"[Errno 2] No such file or directory: '/content/drive/MyDrive/tiger/6767.T.csv'\"), (6781, \"[Errno 2] No such file or directory: '/content/drive/MyDrive/tiger/6781.T.csv'\"), (6991, \"[Errno 2] No such file or directory: '/content/drive/MyDrive/tiger/6991.T.csv'\"), (8183, \"[Errno 2] No such file or directory: '/content/drive/MyDrive/tiger/8183.T.csv'\"), (8264, \"[Errno 2] No such file or directory: '/content/drive/MyDrive/tiger/8264.T.csv'\"), (8302, \"[Errno 2] No such file or directory: '/content/drive/MyDrive/tiger/8302.T.csv'\"), (8319, \"[Errno 2] No such file or directory: '/content/drive/MyDrive/tiger/8319.T.csv'\"), (8321, \"[Errno 2] No such file or directory: '/content/drive/MyDrive/tiger/8321.T.csv'\"), (8355, \"[Errno 2] No such file or directory: '/content/drive/MyDrive/tiger/8355.T.csv'\"), (8403, \"[Errno 2] No such file or directory: '/content/drive/MyDrive/tiger/8403.T.csv'\"), (8404, \"[Errno 2] No such file or directory: '/content/drive/MyDrive/tiger/8404.T.csv'\"), (8753, \"[Errno 2] No such file or directory: '/content/drive/MyDrive/tiger/8753.T.csv'\"), (9437, \"[Errno 2] No such file or directory: '/content/drive/MyDrive/tiger/9437.T.csv'\")]\n"
          ]
        }
      ]
    },
    {
      "cell_type": "code",
      "source": [
        "# クロスセクション平均の CAAR とその t 統計量\n",
        "\n",
        "def compute_CAAR_and_t(df_events_all, pre=10, post=10):\n",
        "    \"\"\"\n",
        "    入力: df_events_all … 縦積み（stacked）のイベント結果\n",
        "         必須列: ['Code','Announcement date','tau','AR']\n",
        "    出力: DataFrame[ tau, AAR, CAAR, N_eff, SE_CAAR, t_CAAR ]\n",
        "    \"\"\"\n",
        "    # 1) ピボット（行=イベント, 列=τ, 値=AR）\n",
        "    df_panel = (df_events_all[['Code','Announcement date','tau','AR']]\n",
        "                .drop_duplicates(subset=['Code','Announcement date','tau']))\n",
        "    df_panel['Announcement date'] = pd.to_datetime(df_panel['Announcement date'])\n",
        "    # イベントID（同コードでも別アナウンス日は別イベント）\n",
        "    df_panel['event_id'] = (df_panel['Code'].astype(str) + '_' +\n",
        "                            df_panel['Announcement date'].dt.strftime('%Y%m%d'))\n",
        "    # pivot: 行=event_id, 列=tau, 値=AR\n",
        "    AR_pivot = df_panel.pivot_table(index='event_id', columns='tau', values='AR', aggfunc='mean')\n",
        "    AR_pivot = AR_pivot.reindex(columns=sorted(AR_pivot.columns))  # τの昇順\n",
        "\n",
        "    taus = [t for t in AR_pivot.columns if (t >= -pre and t <= post)]\n",
        "    AR_pivot = AR_pivot[taus]\n",
        "\n",
        "    # 2) AAR と CAAR（参考: 全イベントの単純平均。t計算は下で subset毎に再計算）\n",
        "    AAR_all = AR_pivot.mean(axis=0, skipna=True)\n",
        "    CAAR_all = AAR_all.cumsum()\n",
        "\n",
        "    # 3) τ*ごとに、完全観測のイベントのみで CAAR と分散を評価\n",
        "    rows = []\n",
        "    for k, tau_star in enumerate(taus):\n",
        "        cols = taus[:k+1]  # -pre から tau* まで\n",
        "        sub = AR_pivot[cols].dropna(axis=0, how='any')  # 完全観測のみ\n",
        "        N_eff = len(sub)\n",
        "        if N_eff < 2:\n",
        "            rows.append({'tau': tau_star,\n",
        "                         'AAR': AAR_all.loc[tau_star],\n",
        "                         'CAAR': CAAR_all.loc[tau_star],\n",
        "                         'N_eff': N_eff, 'SE_CAAR': np.nan, 't_CAAR': np.nan})\n",
        "            continue\n",
        "\n",
        "        # AAR（subsetで再計算）→ CAAR（その和）\n",
        "        AAR_sub = sub.mean(axis=0)\n",
        "        CAAR_tau = AAR_sub.sum()\n",
        "\n",
        "        # クロスセクション共分散行列（イベント方向の共分散）\n",
        "        S = sub.cov(ddof=1)  # 形は len(cols)×len(cols)\n",
        "        one = np.ones(len(cols))\n",
        "        var_CAAR = (one @ S.values @ one) / N_eff   # Var(和(平均AR)) = (1/N)*1'S1\n",
        "        SE_CAAR  = np.sqrt(var_CAAR)\n",
        "        t_CAAR   = CAAR_tau / SE_CAAR if SE_CAAR > 0 else np.nan\n",
        "\n",
        "        rows.append({'tau': tau_star,\n",
        "                     'AAR': AAR_sub.iloc[-1],    # 直近τの平均AR（参考）\n",
        "                     'CAAR': CAAR_tau,\n",
        "                     'N_eff': N_eff,\n",
        "                     'SE_CAAR': SE_CAAR,\n",
        "                     't_CAAR': t_CAAR})\n",
        "\n",
        "    out = pd.DataFrame(rows).sort_values('tau').reset_index(drop=True)\n",
        "    return out, pd.DataFrame({'tau': taus, 'AAR': AAR_all.values, 'CAAR': CAAR_all.values})\n",
        "\n",
        "\n"
      ],
      "metadata": {
        "id": "vO898wkSPQbW"
      },
      "execution_count": null,
      "outputs": []
    },
    {
      "cell_type": "code",
      "source": [
        "# 使用例\n",
        "CAAR_t, AAR_all = compute_CAAR_and_t(df_events_all, pre=10, post=10)\n",
        "print(CAAR_t.head(21))\n"
      ],
      "metadata": {
        "colab": {
          "base_uri": "https://localhost:8080/"
        },
        "id": "pK5962uAPQhK",
        "outputId": "457f758e-1714-4d13-c946-fb4f30e1e1f2"
      },
      "execution_count": null,
      "outputs": [
        {
          "output_type": "stream",
          "name": "stdout",
          "text": [
            "    tau       AAR      CAAR  N_eff   SE_CAAR    t_CAAR\n",
            "0   -10 -0.002591 -0.002591     95  0.002517 -1.029603\n",
            "1    -9 -0.001252 -0.003843     95  0.003497 -1.098902\n",
            "2    -8  0.000868 -0.002974     95  0.003932 -0.756545\n",
            "3    -7 -0.001411 -0.004385     95  0.004560 -0.961693\n",
            "4    -6  0.001969 -0.002417     95  0.005046 -0.478964\n",
            "5    -5  0.001157 -0.001260     95  0.005778 -0.218001\n",
            "6    -4  0.002373  0.001114     95  0.006010  0.185289\n",
            "7    -3 -0.003059 -0.001945     95  0.006805 -0.285881\n",
            "8    -2 -0.000760 -0.002705     95  0.007551 -0.358219\n",
            "9    -1 -0.001048 -0.003753     95  0.007717 -0.486286\n",
            "10    0  0.013647  0.009894     95  0.008564  1.155380\n",
            "11    1  0.040402  0.050296     95  0.009011  5.581616\n",
            "12    2  0.004323  0.054619     95  0.008978  6.083797\n",
            "13    3  0.002671  0.057290     95  0.009885  5.795876\n",
            "14    4  0.020498  0.077788     95  0.013535  5.747022\n",
            "15    5 -0.011428  0.065773     92  0.011978  5.491195\n",
            "16    6  0.001018  0.068417     85  0.012824  5.335301\n",
            "17    7  0.000898  0.011022     38  0.014736  0.747992\n",
            "18    8  0.002819  0.023555     32  0.017192  1.370114\n"
          ]
        }
      ]
    },
    {
      "cell_type": "code",
      "source": [
        "# --- 図1: CAAR + with ±1.96SE (5%) and ±2.58SE (1%) Bands ---\n",
        "# CAAR_t をソート\n",
        "CAAR_t = CAAR_t.sort_values('tau').reset_index(drop=True)\n",
        "taus = CAAR_t['tau'].to_numpy()\n",
        "caar = CAAR_t['CAAR'].to_numpy()\n",
        "se   = CAAR_t['SE_CAAR'].to_numpy()\n",
        "\n",
        "plt.figure(figsize=(10,6))\n",
        "plt.plot(taus, caar, label='CAAR', color='blue')\n",
        "\n",
        "# ±1.96SE (5%) と ±2.58SE (1%) のバンド\n",
        "plt.fill_between(taus, caar - 1.96*se, caar + 1.96*se,\n",
        "                 alpha=0.2, color='orange', label='95% CI (±1.96SE)')\n",
        "plt.fill_between(taus, caar - 2.58*se, caar + 2.58*se,\n",
        "                 alpha=0.1, color='red', label='99% CI (±2.58SE)')\n",
        "\n",
        "# 基準線\n",
        "plt.axhline(0, linestyle='--', color='black')\n",
        "plt.axvline(0, linestyle=':', color='black')\n",
        "\n",
        "# x軸を -10 から 10 の整数に固定\n",
        "plt.xticks(np.arange(-10, 11, 1))\n",
        "plt.xlim(-10, 10)\n",
        "\n",
        "plt.title('CAAR with ±1.96SE (5%) and ±2.58SE (1%) Bands')\n",
        "plt.xlabel('tau (trading days relative to event)')\n",
        "plt.ylabel('CAAR')\n",
        "plt.legend()\n",
        "plt.tight_layout()\n",
        "plt.show()\n",
        "\n",
        "# --- 図2: AAR（棒グラフ）---\n",
        "if 'AAR_all' in globals() and isinstance(AAR_all, pd.DataFrame):\n",
        "    AAR_plot = AAR_all.sort_values('tau')\n",
        "    plt.figure(figsize=(9,4))\n",
        "    plt.bar(AAR_plot['tau'].to_numpy(), AAR_plot['AAR'].to_numpy(), width=0.8, align='center')\n",
        "    plt.axhline(0, linestyle='--')\n",
        "    plt.axvline(0, linestyle=':')\n",
        "    plt.title('AAR by tau')\n",
        "    plt.xlabel('tau (trading days)')\n",
        "    plt.ylabel('AAR')\n",
        "    plt.tight_layout()\n",
        "    plt.show()\n",
        "else:\n",
        "    print(\"AAR_all が見つからないため、AAR図はスキップしました。\")\n"
      ],
      "metadata": {
        "colab": {
          "base_uri": "https://localhost:8080/",
          "height": 997
        },
        "id": "JKc99-eMPQpv",
        "outputId": "5851908e-e897-485f-95da-83892934b4a6"
      },
      "execution_count": null,
      "outputs": [
        {
          "output_type": "display_data",
          "data": {
            "text/plain": [
              "<Figure size 1000x600 with 1 Axes>"
            ],
            "image/png": "[encoded data removed]"
          },
          "metadata": {}
        },
        {
          "output_type": "display_data",
          "data": {
            "text/plain": [
              "<Figure size 900x400 with 1 Axes>"
            ],
            "image/png": "[encoded data removed]"
          },
          "metadata": {}
        }
      ]
    }
  ]
}